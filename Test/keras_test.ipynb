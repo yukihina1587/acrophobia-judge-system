{
 "cells": [
  {
   "cell_type": "code",
   "execution_count": null,
   "metadata": {
    "collapsed": true
   },
   "outputs": [],
   "source": [
    "%matplotlib inline\n",
    "import matplotlib.pyplot as plt\n",
    "import pandas as pd\n",
    "import numpy as np\n",
    "import keras\n",
    "df = pd.read_csv(\"AirportPassengers.csv\",delimiter=\";\").dropna()\n",
    "data = []\n",
    "target = []\n",
    "max_len = 24\n",
    "dim = 1\n",
    "# 正規化\n",
    "maximum = df.Passengers.max()\n",
    "minimum = df.Passengers.min()\n",
    "df[\"Passengers\"] = (df.Passengers-minimum)/(maximum-minimum)\n",
    "# データを箱に入れる\n",
    "for i in range(len(df)-max_len-1):\n",
    "    data.append(df.Passengers.values[i:i+max_len])\n",
    "    target.append(df.Passengers.values[i+max_len+1])\n",
    "# データの整形\n",
    "data = np.array(data).reshape(len(data),max_len,dim)\n",
    "target = np.array(target).reshape(-1,1)\n",
    "# データの分割\n",
    "from sklearn.model_selection import train_test_split\n",
    "N_train = int(len(data)*0.7)\n",
    "N_test = len(data) - N_train\n",
    "X_train, X_validation, Y_train, Y_validation = train_test_split(data, target, test_size=N_test)"
   ]
  }
 ],
 "metadata": {
  "kernelspec": {
   "display_name": "Python 2",
   "language": "python",
   "name": "python2"
  },
  "language_info": {
   "codemirror_mode": {
    "name": "ipython",
    "version": 2
   },
   "file_extension": ".py",
   "mimetype": "text/x-python",
   "name": "python",
   "nbconvert_exporter": "python",
   "pygments_lexer": "ipython2",
   "version": "2.7.6"
  }
 },
 "nbformat": 4,
 "nbformat_minor": 0
}
