{
  "cells": [
    {
      "cell_type": "code",
      "execution_count": 1,
      "outputs": [
        {
          "data": {
            "text/plain": "\u003cmatplotlib.axes._subplots.AxesSubplot at 0x1c53fff4f28\u003e"
          },
          "metadata": {},
          "output_type": "execute_result",
          "execution_count": 1
        },
        {
          "data": {
            "text/plain": "\u003cmatplotlib.axes._subplots.AxesSubplot at 0x2b4bde61cf8\u003e"
          },
          "metadata": {},
          "output_type": "execute_result",
          "execution_count": 1
        }
      ],
      "source": "import pandas as pd\nimport numpy as np\nimport math\nimport random\n\nrandom.seed(0)\n# 乱数の係数\nrandom_factor \u003d 0.05\n# サイクルあたりのステップ数\nsteps_per_cycle \u003d 80\n# 生成するサイクル数\nnumber_of_cycles \u003d 50\n\ndf \u003d pd.DataFrame(np.arange(steps_per_cycle * number_of_cycles + 1), columns\u003d[\"t\"])\ndf[\"sin_t\"] \u003d df.t.apply(lambda x: math.sin(x * (2 * math.pi / steps_per_cycle)+ random.uniform(-1.0, +1.0) * random_factor))\ndf[[\"sin_t\"]].head(steps_per_cycle * 2).plot()",
      "metadata": {
        "pycharm": {
          "metadata": false,
          "name": "#%%\n",
          "is_executing": false
        }
      }
    }
  ],
  "metadata": {
    "language_info": {
      "codemirror_mode": {
        "name": "ipython",
        "version": 2
      },
      "file_extension": ".py",
      "mimetype": "text/x-python",
      "name": "python",
      "nbconvert_exporter": "python",
      "pygments_lexer": "ipython2",
      "version": "2.7.6"
    },
    "kernelspec": {
      "name": "python3",
      "language": "python",
      "display_name": "Python 3"
    },
    "stem_cell": {
      "cell_type": "raw",
      "source": "",
      "metadata": {
        "pycharm": {
          "metadata": false
        }
      }
    }
  },
  "nbformat": 4,
  "nbformat_minor": 0
}